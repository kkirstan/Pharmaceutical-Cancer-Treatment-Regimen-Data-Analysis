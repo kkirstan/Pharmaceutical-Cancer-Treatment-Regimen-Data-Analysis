{
 "cells": [
  {
   "cell_type": "markdown",
   "metadata": {},
   "source": [
    "## Observations and Insights "
   ]
  },
  {
   "cell_type": "markdown",
   "metadata": {},
   "source": []
  },
  {
   "cell_type": "code",
   "execution_count": 128,
   "metadata": {},
   "outputs": [
    {
     "data": {
      "text/html": [
       "<div>\n",
       "<style scoped>\n",
       "    .dataframe tbody tr th:only-of-type {\n",
       "        vertical-align: middle;\n",
       "    }\n",
       "\n",
       "    .dataframe tbody tr th {\n",
       "        vertical-align: top;\n",
       "    }\n",
       "\n",
       "    .dataframe thead th {\n",
       "        text-align: right;\n",
       "    }\n",
       "</style>\n",
       "<table border=\"1\" class=\"dataframe\">\n",
       "  <thead>\n",
       "    <tr style=\"text-align: right;\">\n",
       "      <th></th>\n",
       "      <th>Mouse ID</th>\n",
       "      <th>Drug Regimen</th>\n",
       "      <th>Sex</th>\n",
       "      <th>Age_months</th>\n",
       "      <th>Weight (g)</th>\n",
       "      <th>Timepoint</th>\n",
       "      <th>Tumor Volume (mm3)</th>\n",
       "      <th>Metastatic Sites</th>\n",
       "    </tr>\n",
       "  </thead>\n",
       "  <tbody>\n",
       "    <tr>\n",
       "      <th>0</th>\n",
       "      <td>k403</td>\n",
       "      <td>Ramicane</td>\n",
       "      <td>Male</td>\n",
       "      <td>21</td>\n",
       "      <td>16</td>\n",
       "      <td>0</td>\n",
       "      <td>45.000000</td>\n",
       "      <td>0</td>\n",
       "    </tr>\n",
       "    <tr>\n",
       "      <th>1</th>\n",
       "      <td>k403</td>\n",
       "      <td>Ramicane</td>\n",
       "      <td>Male</td>\n",
       "      <td>21</td>\n",
       "      <td>16</td>\n",
       "      <td>5</td>\n",
       "      <td>38.825898</td>\n",
       "      <td>0</td>\n",
       "    </tr>\n",
       "    <tr>\n",
       "      <th>2</th>\n",
       "      <td>k403</td>\n",
       "      <td>Ramicane</td>\n",
       "      <td>Male</td>\n",
       "      <td>21</td>\n",
       "      <td>16</td>\n",
       "      <td>10</td>\n",
       "      <td>35.014271</td>\n",
       "      <td>1</td>\n",
       "    </tr>\n",
       "    <tr>\n",
       "      <th>3</th>\n",
       "      <td>k403</td>\n",
       "      <td>Ramicane</td>\n",
       "      <td>Male</td>\n",
       "      <td>21</td>\n",
       "      <td>16</td>\n",
       "      <td>15</td>\n",
       "      <td>34.223992</td>\n",
       "      <td>1</td>\n",
       "    </tr>\n",
       "    <tr>\n",
       "      <th>4</th>\n",
       "      <td>k403</td>\n",
       "      <td>Ramicane</td>\n",
       "      <td>Male</td>\n",
       "      <td>21</td>\n",
       "      <td>16</td>\n",
       "      <td>20</td>\n",
       "      <td>32.997729</td>\n",
       "      <td>1</td>\n",
       "    </tr>\n",
       "    <tr>\n",
       "      <th>...</th>\n",
       "      <td>...</td>\n",
       "      <td>...</td>\n",
       "      <td>...</td>\n",
       "      <td>...</td>\n",
       "      <td>...</td>\n",
       "      <td>...</td>\n",
       "      <td>...</td>\n",
       "      <td>...</td>\n",
       "    </tr>\n",
       "    <tr>\n",
       "      <th>1888</th>\n",
       "      <td>z969</td>\n",
       "      <td>Naftisol</td>\n",
       "      <td>Male</td>\n",
       "      <td>9</td>\n",
       "      <td>30</td>\n",
       "      <td>25</td>\n",
       "      <td>63.145652</td>\n",
       "      <td>2</td>\n",
       "    </tr>\n",
       "    <tr>\n",
       "      <th>1889</th>\n",
       "      <td>z969</td>\n",
       "      <td>Naftisol</td>\n",
       "      <td>Male</td>\n",
       "      <td>9</td>\n",
       "      <td>30</td>\n",
       "      <td>30</td>\n",
       "      <td>65.841013</td>\n",
       "      <td>3</td>\n",
       "    </tr>\n",
       "    <tr>\n",
       "      <th>1890</th>\n",
       "      <td>z969</td>\n",
       "      <td>Naftisol</td>\n",
       "      <td>Male</td>\n",
       "      <td>9</td>\n",
       "      <td>30</td>\n",
       "      <td>35</td>\n",
       "      <td>69.176246</td>\n",
       "      <td>4</td>\n",
       "    </tr>\n",
       "    <tr>\n",
       "      <th>1891</th>\n",
       "      <td>z969</td>\n",
       "      <td>Naftisol</td>\n",
       "      <td>Male</td>\n",
       "      <td>9</td>\n",
       "      <td>30</td>\n",
       "      <td>40</td>\n",
       "      <td>70.314904</td>\n",
       "      <td>4</td>\n",
       "    </tr>\n",
       "    <tr>\n",
       "      <th>1892</th>\n",
       "      <td>z969</td>\n",
       "      <td>Naftisol</td>\n",
       "      <td>Male</td>\n",
       "      <td>9</td>\n",
       "      <td>30</td>\n",
       "      <td>45</td>\n",
       "      <td>73.867845</td>\n",
       "      <td>4</td>\n",
       "    </tr>\n",
       "  </tbody>\n",
       "</table>\n",
       "<p>1893 rows × 8 columns</p>\n",
       "</div>"
      ],
      "text/plain": [
       "     Mouse ID Drug Regimen   Sex  Age_months  Weight (g)  Timepoint  \\\n",
       "0        k403     Ramicane  Male          21          16          0   \n",
       "1        k403     Ramicane  Male          21          16          5   \n",
       "2        k403     Ramicane  Male          21          16         10   \n",
       "3        k403     Ramicane  Male          21          16         15   \n",
       "4        k403     Ramicane  Male          21          16         20   \n",
       "...       ...          ...   ...         ...         ...        ...   \n",
       "1888     z969     Naftisol  Male           9          30         25   \n",
       "1889     z969     Naftisol  Male           9          30         30   \n",
       "1890     z969     Naftisol  Male           9          30         35   \n",
       "1891     z969     Naftisol  Male           9          30         40   \n",
       "1892     z969     Naftisol  Male           9          30         45   \n",
       "\n",
       "      Tumor Volume (mm3)  Metastatic Sites  \n",
       "0              45.000000                 0  \n",
       "1              38.825898                 0  \n",
       "2              35.014271                 1  \n",
       "3              34.223992                 1  \n",
       "4              32.997729                 1  \n",
       "...                  ...               ...  \n",
       "1888           63.145652                 2  \n",
       "1889           65.841013                 3  \n",
       "1890           69.176246                 4  \n",
       "1891           70.314904                 4  \n",
       "1892           73.867845                 4  \n",
       "\n",
       "[1893 rows x 8 columns]"
      ]
     },
     "execution_count": 128,
     "metadata": {},
     "output_type": "execute_result"
    }
   ],
   "source": [
    "# Dependencies and Setup\n",
    "import matplotlib.pyplot as plt\n",
    "import pandas as pd\n",
    "import scipy.stats as st\n",
    "import numpy as np\n",
    "\n",
    "# Study data files\n",
    "mouse_metadata_path = \"Resources/mouse_metadata.csv\"\n",
    "study_results_path = \"Resources/study_results.csv\"\n",
    "\n",
    "# Read the mouse data and the study results\n",
    "mouse_metadata = pd.read_csv(mouse_metadata_path)\n",
    "study_results = pd.read_csv(study_results_path)\n",
    "\n",
    "# Combine the data into a single dataset\n",
    "all_data = pd.merge(mouse_metadata, study_results, how=\"left\", on=[\"Mouse ID\", \"Mouse ID\"])\n",
    "# Display the data table for preview\n",
    "all_data"
   ]
  },
  {
   "cell_type": "code",
   "execution_count": 129,
   "metadata": {},
   "outputs": [
    {
     "data": {
      "text/plain": [
       "1893"
      ]
     },
     "execution_count": 129,
     "metadata": {},
     "output_type": "execute_result"
    }
   ],
   "source": [
    "# Checking the number of mice.\n",
    "all_data[\"Mouse ID\"].count()"
   ]
  },
  {
   "cell_type": "code",
   "execution_count": 130,
   "metadata": {},
   "outputs": [
    {
     "data": {
      "text/plain": [
       "1"
      ]
     },
     "execution_count": 130,
     "metadata": {},
     "output_type": "execute_result"
    }
   ],
   "source": [
    "# Getting the duplicate mice by ID number that shows up for Mouse ID and Timepoint. \n",
    "duplicates = all_data[all_data.duplicated(keep=\"first\")]\n",
    "duplicates[\"Mouse ID\"].count()\n"
   ]
  },
  {
   "cell_type": "code",
   "execution_count": 131,
   "metadata": {},
   "outputs": [
    {
     "data": {
      "text/html": [
       "<div>\n",
       "<style scoped>\n",
       "    .dataframe tbody tr th:only-of-type {\n",
       "        vertical-align: middle;\n",
       "    }\n",
       "\n",
       "    .dataframe tbody tr th {\n",
       "        vertical-align: top;\n",
       "    }\n",
       "\n",
       "    .dataframe thead th {\n",
       "        text-align: right;\n",
       "    }\n",
       "</style>\n",
       "<table border=\"1\" class=\"dataframe\">\n",
       "  <thead>\n",
       "    <tr style=\"text-align: right;\">\n",
       "      <th></th>\n",
       "      <th>Mouse ID</th>\n",
       "      <th>Drug Regimen</th>\n",
       "      <th>Sex</th>\n",
       "      <th>Age_months</th>\n",
       "      <th>Weight (g)</th>\n",
       "      <th>Timepoint</th>\n",
       "      <th>Tumor Volume (mm3)</th>\n",
       "      <th>Metastatic Sites</th>\n",
       "    </tr>\n",
       "  </thead>\n",
       "  <tbody>\n",
       "    <tr>\n",
       "      <th>909</th>\n",
       "      <td>g989</td>\n",
       "      <td>Propriva</td>\n",
       "      <td>Female</td>\n",
       "      <td>21</td>\n",
       "      <td>26</td>\n",
       "      <td>0</td>\n",
       "      <td>45.0</td>\n",
       "      <td>0</td>\n",
       "    </tr>\n",
       "  </tbody>\n",
       "</table>\n",
       "</div>"
      ],
      "text/plain": [
       "    Mouse ID Drug Regimen     Sex  Age_months  Weight (g)  Timepoint  \\\n",
       "909     g989     Propriva  Female          21          26          0   \n",
       "\n",
       "     Tumor Volume (mm3)  Metastatic Sites  \n",
       "909                45.0                 0  "
      ]
     },
     "execution_count": 131,
     "metadata": {},
     "output_type": "execute_result"
    }
   ],
   "source": [
    "# Optional: Get all the data for the duplicate mouse ID. \n",
    "duplicates"
   ]
  },
  {
   "cell_type": "code",
   "execution_count": 132,
   "metadata": {},
   "outputs": [],
   "source": [
    "# Create a clean DataFrame by dropping the duplicate mouse by its ID.\n",
    "cleaned_data = all_data.drop([0,909])"
   ]
  },
  {
   "cell_type": "code",
   "execution_count": 133,
   "metadata": {},
   "outputs": [
    {
     "data": {
      "text/plain": [
       "1891"
      ]
     },
     "execution_count": 133,
     "metadata": {},
     "output_type": "execute_result"
    }
   ],
   "source": [
    "# Checking the number of mice in the clean DataFrame.\n",
    "cleaned_data[\"Mouse ID\"].count()"
   ]
  },
  {
   "cell_type": "markdown",
   "metadata": {},
   "source": [
    "## Summary Statistics"
   ]
  },
  {
   "cell_type": "code",
   "execution_count": 146,
   "metadata": {},
   "outputs": [
    {
     "data": {
      "text/html": [
       "<div>\n",
       "<style scoped>\n",
       "    .dataframe tbody tr th:only-of-type {\n",
       "        vertical-align: middle;\n",
       "    }\n",
       "\n",
       "    .dataframe tbody tr th {\n",
       "        vertical-align: top;\n",
       "    }\n",
       "\n",
       "    .dataframe thead th {\n",
       "        text-align: right;\n",
       "    }\n",
       "</style>\n",
       "<table border=\"1\" class=\"dataframe\">\n",
       "  <thead>\n",
       "    <tr style=\"text-align: right;\">\n",
       "      <th></th>\n",
       "      <th>Mean</th>\n",
       "      <th>Median</th>\n",
       "      <th>Variance</th>\n",
       "      <th>Standard Deviation</th>\n",
       "      <th>SEM</th>\n",
       "    </tr>\n",
       "    <tr>\n",
       "      <th>Drug Regimen</th>\n",
       "      <th></th>\n",
       "      <th></th>\n",
       "      <th></th>\n",
       "      <th></th>\n",
       "      <th></th>\n",
       "    </tr>\n",
       "  </thead>\n",
       "  <tbody>\n",
       "    <tr>\n",
       "      <th>((Capomulin, [Capomulin, Capomulin, Capomulin, Capomulin, Capomulin, Capomulin, Capomulin, Capomulin, Capomulin, Capomulin, Capomulin, Capomulin, Capomulin, Capomulin, Capomulin, Capomulin, Capomulin, Capomulin, Capomulin, Capomulin, Capomulin, Capomulin, Capomulin, Capomulin, Capomulin, Capomulin, Capomulin, Capomulin, Capomulin, Capomulin, Capomulin, Capomulin, Capomulin, Capomulin, Capomulin, Capomulin, Capomulin, Capomulin, Capomulin, Capomulin, Capomulin, Capomulin, Capomulin, Capomulin, Capomulin, Capomulin, Capomulin, Capomulin, Capomulin, Capomulin, Capomulin, Capomulin, Capomulin, Capomulin, Capomulin, Capomulin, Capomulin, Capomulin, Capomulin, Capomulin, Capomulin, Capomulin, Capomulin, Capomulin, Capomulin, Capomulin, Capomulin, Capomulin, Capomulin, Capomulin, Capomulin, Capomulin, Capomulin, Capomulin, Capomulin, Capomulin, Capomulin, Capomulin, Capomulin, Capomulin, Capomulin, Capomulin, Capomulin, Capomulin, Capomulin, Capomulin, Capomulin, Capomulin, Capomulin, Capomulin, Capomulin, Capomulin, Capomulin, Capomulin, Capomulin, Capomulin, Capomulin, Capomulin, Capomulin, Capomulin, ...]), (Ceftamin, [Ceftamin, Ceftamin, Ceftamin, Ceftamin, Ceftamin, Ceftamin, Ceftamin, Ceftamin, Ceftamin, Ceftamin, Ceftamin, Ceftamin, Ceftamin, Ceftamin, Ceftamin, Ceftamin, Ceftamin, Ceftamin, Ceftamin, Ceftamin, Ceftamin, Ceftamin, Ceftamin, Ceftamin, Ceftamin, Ceftamin, Ceftamin, Ceftamin, Ceftamin, Ceftamin, Ceftamin, Ceftamin, Ceftamin, Ceftamin, Ceftamin, Ceftamin, Ceftamin, Ceftamin, Ceftamin, Ceftamin, Ceftamin, Ceftamin, Ceftamin, Ceftamin, Ceftamin, Ceftamin, Ceftamin, Ceftamin, Ceftamin, Ceftamin, Ceftamin, Ceftamin, Ceftamin, Ceftamin, Ceftamin, Ceftamin, Ceftamin, Ceftamin, Ceftamin, Ceftamin, Ceftamin, Ceftamin, Ceftamin, Ceftamin, Ceftamin, Ceftamin, Ceftamin, Ceftamin, Ceftamin, Ceftamin, Ceftamin, Ceftamin, Ceftamin, Ceftamin, Ceftamin, Ceftamin, Ceftamin, Ceftamin, Ceftamin, Ceftamin, Ceftamin, Ceftamin, Ceftamin, Ceftamin, Ceftamin, Ceftamin, Ceftamin, Ceftamin, Ceftamin, Ceftamin, Ceftamin, Ceftamin, Ceftamin, Ceftamin, Ceftamin, Ceftamin, Ceftamin, Ceftamin, Ceftamin, Ceftamin, ...]), (Infubinol, [Infubinol, Infubinol, Infubinol, Infubinol, Infubinol, Infubinol, Infubinol, Infubinol, Infubinol, Infubinol, Infubinol, Infubinol, Infubinol, Infubinol, Infubinol, Infubinol, Infubinol, Infubinol, Infubinol, Infubinol, Infubinol, Infubinol, Infubinol, Infubinol, Infubinol, Infubinol, Infubinol, Infubinol, Infubinol, Infubinol, Infubinol, Infubinol, Infubinol, Infubinol, Infubinol, Infubinol, Infubinol, Infubinol, Infubinol, Infubinol, Infubinol, Infubinol, Infubinol, Infubinol, Infubinol, Infubinol, Infubinol, Infubinol, Infubinol, Infubinol, Infubinol, Infubinol, Infubinol, Infubinol, Infubinol, Infubinol, Infubinol, Infubinol, Infubinol, Infubinol, Infubinol, Infubinol, Infubinol, Infubinol, Infubinol, Infubinol, Infubinol, Infubinol, Infubinol, Infubinol, Infubinol, Infubinol, Infubinol, Infubinol, Infubinol, Infubinol, Infubinol, Infubinol, Infubinol, Infubinol, Infubinol, Infubinol, Infubinol, Infubinol, Infubinol, Infubinol, Infubinol, Infubinol, Infubinol, Infubinol, Infubinol, Infubinol, Infubinol, Infubinol, Infubinol, Infubinol, Infubinol, Infubinol, Infubinol, Infubinol, ...]), (Ketapril, [Ketapril, Ketapril, Ketapril, Ketapril, Ketapril, Ketapril, Ketapril, Ketapril, Ketapril, Ketapril, Ketapril, Ketapril, Ketapril, Ketapril, Ketapril, Ketapril, Ketapril, Ketapril, Ketapril, Ketapril, Ketapril, Ketapril, Ketapril, Ketapril, Ketapril, Ketapril, Ketapril, Ketapril, Ketapril, Ketapril, Ketapril, Ketapril, Ketapril, Ketapril, Ketapril, Ketapril, Ketapril, Ketapril, Ketapril, Ketapril, Ketapril, Ketapril, Ketapril, Ketapril, Ketapril, Ketapril, Ketapril, Ketapril, Ketapril, Ketapril, Ketapril, Ketapril, Ketapril, Ketapril, Ketapril, Ketapril, Ketapril, Ketapril, Ketapril, Ketapril, Ketapril, Ketapril, Ketapril, Ketapril, Ketapril, Ketapril, Ketapril, Ketapril, Ketapril, Ketapril, Ketapril, Ketapril, Ketapril, Ketapril, Ketapril, Ketapril, Ketapril, Ketapril, Ketapril, Ketapril, Ketapril, Ketapril, Ketapril, Ketapril, Ketapril, Ketapril, Ketapril, Ketapril, Ketapril, Ketapril, Ketapril, Ketapril, Ketapril, Ketapril, Ketapril, Ketapril, Ketapril, Ketapril, Ketapril, Ketapril, ...]), (Naftisol, [Naftisol, Naftisol, Naftisol, Naftisol, Naftisol, Naftisol, Naftisol, Naftisol, Naftisol, Naftisol, Naftisol, Naftisol, Naftisol, Naftisol, Naftisol, Naftisol, Naftisol, Naftisol, Naftisol, Naftisol, Naftisol, Naftisol, Naftisol, Naftisol, Naftisol, Naftisol, Naftisol, Naftisol, Naftisol, Naftisol, Naftisol, Naftisol, Naftisol, Naftisol, Naftisol, Naftisol, Naftisol, Naftisol, Naftisol, Naftisol, Naftisol, Naftisol, Naftisol, Naftisol, Naftisol, Naftisol, Naftisol, Naftisol, Naftisol, Naftisol, Naftisol, Naftisol, Naftisol, Naftisol, Naftisol, Naftisol, Naftisol, Naftisol, Naftisol, Naftisol, Naftisol, Naftisol, Naftisol, Naftisol, Naftisol, Naftisol, Naftisol, Naftisol, Naftisol, Naftisol, Naftisol, Naftisol, Naftisol, Naftisol, Naftisol, Naftisol, Naftisol, Naftisol, Naftisol, Naftisol, Naftisol, Naftisol, Naftisol, Naftisol, Naftisol, Naftisol, Naftisol, Naftisol, Naftisol, Naftisol, Naftisol, Naftisol, Naftisol, Naftisol, Naftisol, Naftisol, Naftisol, Naftisol, Naftisol, Naftisol, ...]), (Placebo, [Placebo, Placebo, Placebo, Placebo, Placebo, Placebo, Placebo, Placebo, Placebo, Placebo, Placebo, Placebo, Placebo, Placebo, Placebo, Placebo, Placebo, Placebo, Placebo, Placebo, Placebo, Placebo, Placebo, Placebo, Placebo, Placebo, Placebo, Placebo, Placebo, Placebo, Placebo, Placebo, Placebo, Placebo, Placebo, Placebo, Placebo, Placebo, Placebo, Placebo, Placebo, Placebo, Placebo, Placebo, Placebo, Placebo, Placebo, Placebo, Placebo, Placebo, Placebo, Placebo, Placebo, Placebo, Placebo, Placebo, Placebo, Placebo, Placebo, Placebo, Placebo, Placebo, Placebo, Placebo, Placebo, Placebo, Placebo, Placebo, Placebo, Placebo, Placebo, Placebo, Placebo, Placebo, Placebo, Placebo, Placebo, Placebo, Placebo, Placebo, Placebo, Placebo, Placebo, Placebo, Placebo, Placebo, Placebo, Placebo, Placebo, Placebo, Placebo, Placebo, Placebo, Placebo, Placebo, Placebo, Placebo, Placebo, Placebo, Placebo, ...]), (Propriva, [Propriva, Propriva, Propriva, Propriva, Propriva, Propriva, Propriva, Propriva, Propriva, Propriva, Propriva, Propriva, Propriva, Propriva, Propriva, Propriva, Propriva, Propriva, Propriva, Propriva, Propriva, Propriva, Propriva, Propriva, Propriva, Propriva, Propriva, Propriva, Propriva, Propriva, Propriva, Propriva, Propriva, Propriva, Propriva, Propriva, Propriva, Propriva, Propriva, Propriva, Propriva, Propriva, Propriva, Propriva, Propriva, Propriva, Propriva, Propriva, Propriva, Propriva, Propriva, Propriva, Propriva, Propriva, Propriva, Propriva, Propriva, Propriva, Propriva, Propriva, Propriva, Propriva, Propriva, Propriva, Propriva, Propriva, Propriva, Propriva, Propriva, Propriva, Propriva, Propriva, Propriva, Propriva, Propriva, Propriva, Propriva, Propriva, Propriva, Propriva, Propriva, Propriva, Propriva, Propriva, Propriva, Propriva, Propriva, Propriva, Propriva, Propriva, Propriva, Propriva, Propriva, Propriva, Propriva, Propriva, Propriva, Propriva, Propriva, Propriva, ...]), (Ramicane, [Ramicane, Ramicane, Ramicane, Ramicane, Ramicane, Ramicane, Ramicane, Ramicane, Ramicane, Ramicane, Ramicane, Ramicane, Ramicane, Ramicane, Ramicane, Ramicane, Ramicane, Ramicane, Ramicane, Ramicane, Ramicane, Ramicane, Ramicane, Ramicane, Ramicane, Ramicane, Ramicane, Ramicane, Ramicane, Ramicane, Ramicane, Ramicane, Ramicane, Ramicane, Ramicane, Ramicane, Ramicane, Ramicane, Ramicane, Ramicane, Ramicane, Ramicane, Ramicane, Ramicane, Ramicane, Ramicane, Ramicane, Ramicane, Ramicane, Ramicane, Ramicane, Ramicane, Ramicane, Ramicane, Ramicane, Ramicane, Ramicane, Ramicane, Ramicane, Ramicane, Ramicane, Ramicane, Ramicane, Ramicane, Ramicane, Ramicane, Ramicane, Ramicane, Ramicane, Ramicane, Ramicane, Ramicane, Ramicane, Ramicane, Ramicane, Ramicane, Ramicane, Ramicane, Ramicane, Ramicane, Ramicane, Ramicane, Ramicane, Ramicane, Ramicane, Ramicane, Ramicane, Ramicane, Ramicane, Ramicane, Ramicane, Ramicane, Ramicane, Ramicane, Ramicane, Ramicane, Ramicane, Ramicane, Ramicane, Ramicane, ...]), (Stelasyn, [Stelasyn, Stelasyn, Stelasyn, Stelasyn, Stelasyn, Stelasyn, Stelasyn, Stelasyn, Stelasyn, Stelasyn, Stelasyn, Stelasyn, Stelasyn, Stelasyn, Stelasyn, Stelasyn, Stelasyn, Stelasyn, Stelasyn, Stelasyn, Stelasyn, Stelasyn, Stelasyn, Stelasyn, Stelasyn, Stelasyn, Stelasyn, Stelasyn, Stelasyn, Stelasyn, Stelasyn, Stelasyn, Stelasyn, Stelasyn, Stelasyn, Stelasyn, Stelasyn, Stelasyn, Stelasyn, Stelasyn, Stelasyn, Stelasyn, Stelasyn, Stelasyn, Stelasyn, Stelasyn, Stelasyn, Stelasyn, Stelasyn, Stelasyn, Stelasyn, Stelasyn, Stelasyn, Stelasyn, Stelasyn, Stelasyn, Stelasyn, Stelasyn, Stelasyn, Stelasyn, Stelasyn, Stelasyn, Stelasyn, Stelasyn, Stelasyn, Stelasyn, Stelasyn, Stelasyn, Stelasyn, Stelasyn, Stelasyn, Stelasyn, Stelasyn, Stelasyn, Stelasyn, Stelasyn, Stelasyn, Stelasyn, Stelasyn, Stelasyn, Stelasyn, Stelasyn, Stelasyn, Stelasyn, Stelasyn, Stelasyn, Stelasyn, Stelasyn, Stelasyn, Stelasyn, Stelasyn, Stelasyn, Stelasyn, Stelasyn, Stelasyn, Stelasyn, Stelasyn, Stelasyn, Stelasyn, Stelasyn, ...]), (Zoniferol, [Zoniferol, Zoniferol, Zoniferol, Zoniferol, Zoniferol, Zoniferol, Zoniferol, Zoniferol, Zoniferol, Zoniferol, Zoniferol, Zoniferol, Zoniferol, Zoniferol, Zoniferol, Zoniferol, Zoniferol, Zoniferol, Zoniferol, Zoniferol, Zoniferol, Zoniferol, Zoniferol, Zoniferol, Zoniferol, Zoniferol, Zoniferol, Zoniferol, Zoniferol, Zoniferol, Zoniferol, Zoniferol, Zoniferol, Zoniferol, Zoniferol, Zoniferol, Zoniferol, Zoniferol, Zoniferol, Zoniferol, Zoniferol, Zoniferol, Zoniferol, Zoniferol, Zoniferol, Zoniferol, Zoniferol, Zoniferol, Zoniferol, Zoniferol, Zoniferol, Zoniferol, Zoniferol, Zoniferol, Zoniferol, Zoniferol, Zoniferol, Zoniferol, Zoniferol, Zoniferol, Zoniferol, Zoniferol, Zoniferol, Zoniferol, Zoniferol, Zoniferol, Zoniferol, Zoniferol, Zoniferol, Zoniferol, Zoniferol, Zoniferol, Zoniferol, Zoniferol, Zoniferol, Zoniferol, Zoniferol, Zoniferol, Zoniferol, Zoniferol, Zoniferol, Zoniferol, Zoniferol, Zoniferol, Zoniferol, Zoniferol, Zoniferol, Zoniferol, Zoniferol, Zoniferol, Zoniferol, Zoniferol, Zoniferol, Zoniferol, Zoniferol, Zoniferol, Zoniferol, Zoniferol, Zoniferol, Zoniferol, ...]))</th>\n",
       "      <td>50.454143</td>\n",
       "      <td>48.957919</td>\n",
       "      <td>79.126483</td>\n",
       "      <td>8.895307</td>\n",
       "      <td>0.204611</td>\n",
       "    </tr>\n",
       "  </tbody>\n",
       "</table>\n",
       "</div>"
      ],
      "text/plain": [
       "                                                         Mean     Median  \\\n",
       "Drug Regimen                                                               \n",
       "((Capomulin, [Capomulin, Capomulin, Capomulin, ...  50.454143  48.957919   \n",
       "\n",
       "                                                     Variance  \\\n",
       "Drug Regimen                                                    \n",
       "((Capomulin, [Capomulin, Capomulin, Capomulin, ...  79.126483   \n",
       "\n",
       "                                                    Standard Deviation  \\\n",
       "Drug Regimen                                                             \n",
       "((Capomulin, [Capomulin, Capomulin, Capomulin, ...            8.895307   \n",
       "\n",
       "                                                         SEM  \n",
       "Drug Regimen                                                  \n",
       "((Capomulin, [Capomulin, Capomulin, Capomulin, ...  0.204611  "
      ]
     },
     "execution_count": 146,
     "metadata": {},
     "output_type": "execute_result"
    }
   ],
   "source": [
    "# Generate a summary statistics table of mean, median, variance, standard deviation, and SEM of the tumor volume for each regimen\n",
    "\n",
    "# Use groupby and summary statistical methods to calculate the following properties of each drug regimen: \n",
    "# mean, median, variance, standard deviation, and SEM of the tumor volume. \n",
    "# Assemble the resulting series into a single summary dataframe.\n",
    "\n",
    "volume = cleaned_data[\"Tumor Volume (mm3)\"]\n",
    "regimen = cleaned_data.groupby(\"Drug Regimen\")[\"Drug Regimen\"]\n",
    "\n",
    "mean_volume = np.mean(volume)\n",
    "median_volume = np.median(volume)\n",
    "var_volume = np.var(volume)\n",
    "sd_volume = np.std(volume)\n",
    "SEM = volume.sem()\n",
    "\n",
    "volume_summary_table = pd.DataFrame({\n",
    "    \"Drug Regimen\":[regimen],\n",
    "    \"Mean\":[mean_volume],\n",
    "    \"Median\":[median_volume],\n",
    "    \"Variance\":[var_volume],\n",
    "    \"Standard Deviation\":[sd_volume],\n",
    "    \"SEM\":[SEM]\n",
    "})\n",
    "\n",
    "volume_summary_table.set_index(\"Drug Regimen\")\n"
   ]
  },
  {
   "cell_type": "code",
   "execution_count": 125,
   "metadata": {},
   "outputs": [],
   "source": [
    "# Generate a summary statistics table of mean, median, variance, standard deviation, and SEM of the tumor volume for each regimen\n",
    "\n",
    "# Use groupby and summary statistical methods to calculate the following properties of each drug regimen: \n",
    "# mean, median, variance, standard deviation, and SEM of the tumor volume. \n",
    "# Assemble the resulting series into a single summary dataframe.\n"
   ]
  },
  {
   "cell_type": "code",
   "execution_count": 150,
   "metadata": {},
   "outputs": [
    {
     "ename": "TypeError",
     "evalue": "mean() got an unexpected keyword argument 'axis'",
     "output_type": "error",
     "traceback": [
      "\u001b[1;31m---------------------------------------------------------------------------\u001b[0m",
      "\u001b[1;31mTypeError\u001b[0m                                 Traceback (most recent call last)",
      "\u001b[1;32m<ipython-input-150-94e4439f0b55>\u001b[0m in \u001b[0;36m<module>\u001b[1;34m\u001b[0m\n\u001b[0;32m     14\u001b[0m \u001b[0msem\u001b[0m \u001b[1;33m=\u001b[0m \u001b[0mcleaned_data\u001b[0m\u001b[1;33m.\u001b[0m\u001b[0mgroupby\u001b[0m\u001b[1;33m(\u001b[0m\u001b[1;34m\"Drug Regimen\"\u001b[0m\u001b[1;33m)\u001b[0m\u001b[1;33m[\u001b[0m\u001b[1;34m\"Tumor Volume (mm3)\"\u001b[0m\u001b[1;33m]\u001b[0m\u001b[1;33m\u001b[0m\u001b[1;33m\u001b[0m\u001b[0m\n\u001b[0;32m     15\u001b[0m \u001b[1;33m\u001b[0m\u001b[0m\n\u001b[1;32m---> 16\u001b[1;33m \u001b[0mmean_volume\u001b[0m \u001b[1;33m=\u001b[0m \u001b[0mnp\u001b[0m\u001b[1;33m.\u001b[0m\u001b[0mmean\u001b[0m\u001b[1;33m(\u001b[0m\u001b[0mmean\u001b[0m\u001b[1;33m)\u001b[0m\u001b[1;33m\u001b[0m\u001b[1;33m\u001b[0m\u001b[0m\n\u001b[0m\u001b[0;32m     17\u001b[0m \u001b[0mmedian_volume\u001b[0m \u001b[1;33m=\u001b[0m \u001b[0mnp\u001b[0m\u001b[1;33m.\u001b[0m\u001b[0mmedian\u001b[0m\u001b[1;33m(\u001b[0m\u001b[0mmed\u001b[0m\u001b[1;33m)\u001b[0m\u001b[1;33m\u001b[0m\u001b[1;33m\u001b[0m\u001b[0m\n\u001b[0;32m     18\u001b[0m \u001b[0mvar_volume\u001b[0m \u001b[1;33m=\u001b[0m \u001b[0mnp\u001b[0m\u001b[1;33m.\u001b[0m\u001b[0mvar\u001b[0m\u001b[1;33m(\u001b[0m\u001b[0mvar\u001b[0m\u001b[1;33m)\u001b[0m\u001b[1;33m\u001b[0m\u001b[1;33m\u001b[0m\u001b[0m\n",
      "\u001b[1;32m<__array_function__ internals>\u001b[0m in \u001b[0;36mmean\u001b[1;34m(*args, **kwargs)\u001b[0m\n",
      "\u001b[1;32m~\\Anaconda3\\lib\\site-packages\\numpy\\core\\fromnumeric.py\u001b[0m in \u001b[0;36mmean\u001b[1;34m(a, axis, dtype, out, keepdims)\u001b[0m\n\u001b[0;32m   3368\u001b[0m             \u001b[1;32mpass\u001b[0m\u001b[1;33m\u001b[0m\u001b[1;33m\u001b[0m\u001b[0m\n\u001b[0;32m   3369\u001b[0m         \u001b[1;32melse\u001b[0m\u001b[1;33m:\u001b[0m\u001b[1;33m\u001b[0m\u001b[1;33m\u001b[0m\u001b[0m\n\u001b[1;32m-> 3370\u001b[1;33m             \u001b[1;32mreturn\u001b[0m \u001b[0mmean\u001b[0m\u001b[1;33m(\u001b[0m\u001b[0maxis\u001b[0m\u001b[1;33m=\u001b[0m\u001b[0maxis\u001b[0m\u001b[1;33m,\u001b[0m \u001b[0mdtype\u001b[0m\u001b[1;33m=\u001b[0m\u001b[0mdtype\u001b[0m\u001b[1;33m,\u001b[0m \u001b[0mout\u001b[0m\u001b[1;33m=\u001b[0m\u001b[0mout\u001b[0m\u001b[1;33m,\u001b[0m \u001b[1;33m**\u001b[0m\u001b[0mkwargs\u001b[0m\u001b[1;33m)\u001b[0m\u001b[1;33m\u001b[0m\u001b[1;33m\u001b[0m\u001b[0m\n\u001b[0m\u001b[0;32m   3371\u001b[0m \u001b[1;33m\u001b[0m\u001b[0m\n\u001b[0;32m   3372\u001b[0m     return _methods._mean(a, axis=axis, dtype=dtype,\n",
      "\u001b[1;31mTypeError\u001b[0m: mean() got an unexpected keyword argument 'axis'"
     ]
    }
   ],
   "source": [
    "# Generate a summary statistics table of mean, median, variance, standard deviation, and SEM of the tumor volume for each regimen\n",
    "\n",
    "# Use groupby and summary statistical methods to calculate the following properties of each drug regimen: \n",
    "# mean, median, variance, standard deviation, and SEM of the tumor volume. \n",
    "# Assemble the resulting series into a single summary dataframe.\n",
    "\n",
    "volume = cleaned_data[\"Tumor Volume (mm3)\"]\n",
    "regimen = cleaned_data.groupby(\"Drug Regimen\")[\"Drug Regimen\"]\n",
    "\n",
    "\n",
    "mean_volume = np.mean(volume)\n",
    "median_volume = np.median(volume)\n",
    "var_volume = np.var(volume)\n",
    "sd_volume = np.std(volume)\n",
    "SEM = volume.sem(volume)\n",
    "\n",
    "volume_summary_table = pd.DataFrame({\n",
    "    \"Drug Regimen\":[regimen],\n",
    "    \"Mean\":[mean_volume],\n",
    "    \"Median\":[median_volume],\n",
    "    \"Variance\":[var_volume],\n",
    "    \"Standard Deviation\":[sd_volume],\n",
    "    \"SEM\":[SEM]\n",
    "})\n",
    "\n",
    "volume_summary_table.set_index(\"Drug Regimen\")\n"
   ]
  },
  {
   "cell_type": "code",
   "execution_count": 152,
   "metadata": {},
   "outputs": [
    {
     "data": {
      "text/html": [
       "<div>\n",
       "<style scoped>\n",
       "    .dataframe tbody tr th:only-of-type {\n",
       "        vertical-align: middle;\n",
       "    }\n",
       "\n",
       "    .dataframe tbody tr th {\n",
       "        vertical-align: top;\n",
       "    }\n",
       "\n",
       "    .dataframe thead th {\n",
       "        text-align: right;\n",
       "    }\n",
       "</style>\n",
       "<table border=\"1\" class=\"dataframe\">\n",
       "  <thead>\n",
       "    <tr style=\"text-align: right;\">\n",
       "      <th></th>\n",
       "      <th>Drug Regimen</th>\n",
       "      <th>Mean</th>\n",
       "      <th>Median</th>\n",
       "      <th>Variance</th>\n",
       "      <th>Standard Deviation</th>\n",
       "      <th>SEM</th>\n",
       "    </tr>\n",
       "  </thead>\n",
       "  <tbody>\n",
       "    <tr>\n",
       "      <th>0</th>\n",
       "      <td>&lt;pandas.core.groupby.generic.SeriesGroupBy obj...</td>\n",
       "      <td>50.454143</td>\n",
       "      <td>48.957919</td>\n",
       "      <td>79.126483</td>\n",
       "      <td>8.895307</td>\n",
       "      <td>0.204611</td>\n",
       "    </tr>\n",
       "  </tbody>\n",
       "</table>\n",
       "</div>"
      ],
      "text/plain": [
       "                                        Drug Regimen       Mean     Median  \\\n",
       "0  <pandas.core.groupby.generic.SeriesGroupBy obj...  50.454143  48.957919   \n",
       "\n",
       "    Variance  Standard Deviation       SEM  \n",
       "0  79.126483            8.895307  0.204611  "
      ]
     },
     "execution_count": 152,
     "metadata": {},
     "output_type": "execute_result"
    }
   ],
   "source": [
    "# Generate a summary statistics table of mean, median, variance, standard deviation, and SEM of the tumor volume for each regimen\n",
    "\n",
    "# Use groupby and summary statistical methods to calculate the following properties of each drug regimen: \n",
    "# mean, median, variance, standard deviation, and SEM of the tumor volume. \n",
    "# Assemble the resulting series into a single summary dataframe.\n",
    "\n",
    "volume = cleaned_data[\"Tumor Volume (mm3)\"]\n",
    "regimen = cleaned_data.groupby(\"Drug Regimen\")[\"Drug Regimen\"]\n",
    "\n",
    "mean_volume = np.mean(volume)\n",
    "median_volume = np.median(volume)\n",
    "var_volume = np.var(volume)\n",
    "sd_volume = np.std(volume)\n",
    "SEM = volume.sem()\n",
    "\n",
    "volume_summary_table = pd.DataFrame({\n",
    "    \"Drug Regimen\":[regimen],\n",
    "    \"Mean\":[mean_volume],\n",
    "    \"Median\":[median_volume],\n",
    "    \"Variance\":[var_volume],\n",
    "    \"Standard Deviation\":[sd_volume],\n",
    "    \"SEM\":[SEM]\n",
    "})\n",
    "\n",
    "volume_summary_table\n"
   ]
  },
  {
   "cell_type": "code",
   "execution_count": null,
   "metadata": {},
   "outputs": [],
   "source": []
  },
  {
   "cell_type": "code",
   "execution_count": 8,
   "metadata": {},
   "outputs": [],
   "source": [
    "# Generate a summary statistics table of mean, median, variance, standard deviation, and SEM of the tumor volume for each regimen\n",
    "\n",
    "# Using the aggregation method, produce the same summary statistics in a single line\n"
   ]
  },
  {
   "cell_type": "markdown",
   "metadata": {},
   "source": [
    "## Bar and Pie Charts"
   ]
  },
  {
   "cell_type": "code",
   "execution_count": 9,
   "metadata": {},
   "outputs": [],
   "source": [
    "# Generate a bar plot showing the total number of measurements taken on each drug regimen using pandas.\n",
    "\n"
   ]
  },
  {
   "cell_type": "code",
   "execution_count": 10,
   "metadata": {},
   "outputs": [],
   "source": [
    "# Generate a bar plot showing the total number of measurements taken on each drug regimen using pyplot.\n",
    "\n"
   ]
  },
  {
   "cell_type": "code",
   "execution_count": 11,
   "metadata": {},
   "outputs": [],
   "source": [
    "# Generate a pie plot showing the distribution of female versus male mice using pandas\n",
    "\n"
   ]
  },
  {
   "cell_type": "code",
   "execution_count": 12,
   "metadata": {},
   "outputs": [],
   "source": [
    "# Generate a pie plot showing the distribution of female versus male mice using pyplot\n",
    "\n"
   ]
  },
  {
   "cell_type": "markdown",
   "metadata": {},
   "source": [
    "## Quartiles, Outliers and Boxplots"
   ]
  },
  {
   "cell_type": "code",
   "execution_count": 13,
   "metadata": {},
   "outputs": [],
   "source": [
    "# Calculate the final tumor volume of each mouse across four of the treatment regimens:  \n",
    "# Capomulin, Ramicane, Infubinol, and Ceftamin\n",
    "\n",
    "# Start by getting the last (greatest) timepoint for each mouse\n",
    "\n",
    "\n",
    "# Merge this group df with the original dataframe to get the tumor volume at the last timepoint\n"
   ]
  },
  {
   "cell_type": "code",
   "execution_count": 14,
   "metadata": {},
   "outputs": [],
   "source": [
    "# Put treatments into a list for for loop (and later for plot labels)\n",
    "\n",
    "\n",
    "# Create empty list to fill with tumor vol data (for plotting)\n",
    "\n",
    "\n",
    "# Calculate the IQR and quantitatively determine if there are any potential outliers. \n",
    "\n",
    "    \n",
    "    # Locate the rows which contain mice on each drug and get the tumor volumes\n",
    "    \n",
    "    \n",
    "    # add subset \n",
    "    \n",
    "    \n",
    "    # Determine outliers using upper and lower bounds\n",
    "    "
   ]
  },
  {
   "cell_type": "code",
   "execution_count": 15,
   "metadata": {},
   "outputs": [],
   "source": [
    "# Generate a box plot of the final tumor volume of each mouse across four regimens of interest\n"
   ]
  },
  {
   "cell_type": "markdown",
   "metadata": {},
   "source": [
    "## Line and Scatter Plots"
   ]
  },
  {
   "cell_type": "code",
   "execution_count": 16,
   "metadata": {},
   "outputs": [],
   "source": [
    "# Generate a line plot of tumor volume vs. time point for a mouse treated with Capomulin\n"
   ]
  },
  {
   "cell_type": "code",
   "execution_count": 17,
   "metadata": {},
   "outputs": [],
   "source": [
    "# Generate a scatter plot of average tumor volume vs. mouse weight for the Capomulin regimen\n"
   ]
  },
  {
   "cell_type": "markdown",
   "metadata": {},
   "source": [
    "## Correlation and Regression"
   ]
  },
  {
   "cell_type": "code",
   "execution_count": 18,
   "metadata": {},
   "outputs": [],
   "source": [
    "# Calculate the correlation coefficient and linear regression model \n",
    "# for mouse weight and average tumor volume for the Capomulin regimen\n"
   ]
  },
  {
   "cell_type": "code",
   "execution_count": null,
   "metadata": {},
   "outputs": [],
   "source": []
  }
 ],
 "metadata": {
  "anaconda-cloud": {},
  "kernelspec": {
   "display_name": "Python 3",
   "language": "python",
   "name": "python3"
  },
  "language_info": {
   "codemirror_mode": {
    "name": "ipython",
    "version": 3
   },
   "file_extension": ".py",
   "mimetype": "text/x-python",
   "name": "python",
   "nbconvert_exporter": "python",
   "pygments_lexer": "ipython3",
   "version": "3.8.3"
  }
 },
 "nbformat": 4,
 "nbformat_minor": 4
}
